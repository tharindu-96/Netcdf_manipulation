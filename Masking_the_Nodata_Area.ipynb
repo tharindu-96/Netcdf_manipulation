{
 "cells": [
  {
   "cell_type": "code",
   "execution_count": 1,
   "id": "6287003e-acf7-4cca-a5f0-4c80551a2b50",
   "metadata": {},
   "outputs": [],
   "source": [
    "import rasterio\n",
    "import numpy as np\n",
    "import os\n",
    "\n",
    "def create_mask(reference_image_path, nodata_value=-9999):\n",
    "    with rasterio.open(reference_image_path) as ref_ds:\n",
    "        reference_image = ref_ds.read(1)\n",
    "        mask = (reference_image != nodata_value) & (~np.isnan(reference_image))\n",
    "        transform = ref_ds.transform\n",
    "\n",
    "    return mask, transform\n",
    "\n",
    "def extract_data_from_folder(folder_path, mask, transform, output_folder, nodata_value=np.nan):\n",
    "    for file_name in os.listdir(folder_path):\n",
    "        if file_name.endswith(\".tif\") or file_name.endswith(\".tiff\"):\n",
    "            file_path = os.path.join(folder_path, file_name)\n",
    "\n",
    "            with rasterio.open(file_path) as current_ds:\n",
    "                current_image = current_ds.read(1)\n",
    "                \n",
    "                # Create a masked array with NaN values in masked areas\n",
    "                masked_data = np.where(mask, current_image, np.nan)\n",
    "                \n",
    "                # Set the nodata value in the output\n",
    "                masked_data[np.isnan(masked_data)] = nodata_value\n",
    "                masked_data[masked_data>500000] = np.nan\n",
    "                \n",
    "                output_file_path = os.path.join(output_folder, file_name)\n",
    "\n",
    "                # Create the output TIF file with the correct shape\n",
    "                profile = current_ds.profile\n",
    "                profile.update(count=1)  # Update the number of bands to 1\n",
    "                profile.update(nodata=nodata_value)  # Set nodata value\n",
    "                with rasterio.open(output_file_path, 'w', **profile) as dst:\n",
    "                    dst.write(masked_data, 1)  # Write the masked_data directly\n",
    "\n",
    "# Example usage\n",
    "folder_path = r\"/home/komlavi/CWA_model/SRO_monthly_data_extraction/outdata\"\n",
    "reference_image_path = r\"/home/komlavi/CWA_model/SRO_monthly_data_extraction/ref_img/AFR_Incremental_ET_M_ETincr_yearly_avg_N.tif\"\n",
    "output_folder = r\"/home/komlavi/CWA_model/SRO_monthly_data_extraction/outdata/New_data\"\n",
    "\n",
    "# Create mask from the reference image based on non-NaN values\n",
    "mask, transform = create_mask(reference_image_path)\n",
    "\n",
    "# Extract data using the mask and save to the output folder\n",
    "extract_data_from_folder(folder_path, mask, transform, output_folder)\n"
   ]
  },
  {
   "cell_type": "code",
   "execution_count": null,
   "id": "67dca23a-0e01-4e4e-a178-43b590eabc7c",
   "metadata": {},
   "outputs": [],
   "source": []
  }
 ],
 "metadata": {
  "kernelspec": {
   "display_name": "Python 3 (ipykernel)",
   "language": "python",
   "name": "python3"
  },
  "language_info": {
   "codemirror_mode": {
    "name": "ipython",
    "version": 3
   },
   "file_extension": ".py",
   "mimetype": "text/x-python",
   "name": "python",
   "nbconvert_exporter": "python",
   "pygments_lexer": "ipython3",
   "version": "3.7.12"
  }
 },
 "nbformat": 4,
 "nbformat_minor": 5
}
